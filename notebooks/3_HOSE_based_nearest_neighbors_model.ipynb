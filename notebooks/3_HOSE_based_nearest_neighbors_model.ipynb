{
 "cells": [
  {
   "cell_type": "markdown",
   "id": "1815ed3b",
   "metadata": {},
   "source": [
    "* [I. Introduction](#I)\n",
    "    * [1.1 Generate standard HOSE Codes](#1.1)\n",
    "    * [1.2 Generate Stereo-Enhanced HOSE Codes](#1.2)\n",
    "* [II. HOSE-Based Nearest Neighbors Model](#II)\n",
    "    * [2.1 Database Creation](#2.1)\n",
    "    * [2.2 Prediction on the Validation dataset](#2.2)\n",
    "        * [2.2.1. Generate HOSE codes for the Validation dataset](#2.2.1)\n",
    "        * [2.2.2 Search the database and get prediction results](#2.2.2)\n",
    "        * [2.2.3 Visualize Prediction Performance in the Validation Dataset](#2.2.3)\n",
    "* [III. Compare prediction results using different model](#III)"
   ]
  },
  {
   "cell_type": "markdown",
   "id": "db8e6c73",
   "metadata": {},
   "source": [
    "# I. Introduction<a class=\"anchor\" id=\"I\"></a>\n",
    "## 1.1 Generate standard HOSE Codes<a class=\"anchor\" id=\"1.2\"></a>\n",
    "The HOSE code is hierarchical descriptors that encode information about the chemical environment around an atom.  It is built sphere-wise around the atom described;"
   ]
  },
  {
   "cell_type": "code",
   "execution_count": 1,
   "id": "76daf720-1094-45bb-8115-b25224cace7b",
   "metadata": {},
   "outputs": [],
   "source": [
    "# !pip install -e .\n",
    "import sys\n",
    "import os\n",
    "import pandas as pd\n",
    "from rdkit import Chem\n",
    "\n",
    "RANDOM_STATE = 1\n",
    "\n",
    "from sklearn.model_selection import train_test_split\n",
    "from sklearn.metrics import mean_squared_error, mean_absolute_error, r2_score\n",
    "\n",
    "# plot\n",
    "import matplotlib.pyplot as plt\n",
    "\n",
    "%matplotlib inline\n",
    "\n",
    "src_path = os.path.join(\"..\")\n",
    "if src_path not in sys.path:\n",
    "    sys.path.append(src_path)\n",
    "\n",
    "src_path = os.path.join(\"..\", \"src\")\n",
    "if src_path not in sys.path:\n",
    "    sys.path.append(src_path)\n",
    "\n",
    "src_path = os.path.join(\"..\", \"external\", \"HOSE_code_generator\")\n",
    "if src_path not in sys.path:\n",
    "    sys.path.append(src_path)\n",
    "\n",
    "from src import (\n",
    "    common,\n",
    "    hose_code,\n",
    ")  # Some common methods I defined\n",
    "\n",
    "\n",
    "from hosegen import HoseGenerator\n",
    "from hosegen.geometry import *\n",
    "\n",
    "pd.set_option(\"display.max_rows\", 10)\n",
    "pd.set_option(\"display.max_columns\", 100)\n",
    "\n",
    "pd.options.mode.chained_assignment = None  # Suppress the SettingWithCopyWarning"
   ]
  },
  {
   "cell_type": "markdown",
   "id": "c26378b6",
   "metadata": {},
   "source": [
    "The methods *get_Hose_codes* and *get_Hose_codes_from_file* can be used to generate a standard HOSE code.\n",
    "Both need the index of the atom for which the HOSE code should be created as *atom_idx*. *max_radius* gives the number of spheres to use (default 5). *usestereo*, *wedgebond*, and *strict* are only used for the stereo-enhanced hose code (see below)."
   ]
  },
  {
   "cell_type": "code",
   "execution_count": 22,
   "id": "91c7dbfb-2ad2-4548-b68a-fdc7b3c827bd",
   "metadata": {},
   "outputs": [
    {
     "data": {
      "text/plain": [
       "'F-1;C(CCF/=OO,FFF,/,,,,)/'"
      ]
     },
     "execution_count": 22,
     "metadata": {},
     "output_type": "execute_result"
    }
   ],
   "source": [
    "compound = Chem.MolFromSmiles(\"FC(C(F)(F)F)(F)C(O[H])=O\")\n",
    "gen = HoseGenerator()\n",
    "gen.get_Hose_codes(compound, 0)"
   ]
  },
  {
   "cell_type": "markdown",
   "id": "9b6114bb-76ee-4956-a7c5-afdd5e74e8e5",
   "metadata": {},
   "source": [
    "## 1.2 Generate Stereo-Enhanced HOSE Codes<a class=\"anchor\" id=\"1.3\"></a>\n",
    "HOSE codes are generated for a specified atom in the molecule, considering stereochemistry and different neighborhood radii around that atom."
   ]
  },
  {
   "cell_type": "code",
   "execution_count": 23,
   "id": "b9b7368e-3a30-4ed7-8045-71cc22d3fdc4",
   "metadata": {},
   "outputs": [
    {
     "data": {
      "text/plain": [
       "'F-1;C(CCF/=OO,FFF,/,,,,)//'"
      ]
     },
     "execution_count": 23,
     "metadata": {},
     "output_type": "execute_result"
    }
   ],
   "source": [
    "# Input SMILES with double bond\n",
    "# smiles_input = \"F/C([H])=C(Oc1ccc(CBr)cc1)/F\"\n",
    "smiles_input = 'FC(C(F)(F)F)(F)C(O[H])=O'\n",
    "# Create a molecule object from the SMILES string\n",
    "mol = Chem.MolFromSmiles(smiles_input)\n",
    "\n",
    "# Generate the canonical SMILES while preserving stereochemistry\n",
    "canonical_smiles = Chem.MolToSmiles(mol, isomericSmiles=True)\n",
    "\n",
    "output_file_path = \"Example.mol\"\n",
    "Chem.MolToMolFile(mol, output_file_path)\n",
    "\n",
    "# A map of wedge bonds. Wedge bonds in chemistry are used to represent the 3D orientation of bonds\n",
    "wedgemap = create_wedgemap(output_file_path)\n",
    "\n",
    "# Initializes an instance of the HoseGenerator class\n",
    "gen = HoseGenerator()\n",
    "\n",
    "# Generate HOSE codes for atom 0 in the molecule\n",
    "gen.get_Hose_codes(mol, 0, usestereo=True, max_radius=6, wedgebond=wedgemap)"
   ]
  },
  {
   "cell_type": "code",
   "execution_count": 31,
   "id": "d91c0247",
   "metadata": {},
   "outputs": [
    {
     "data": {
      "text/plain": [
       "'F-1;(//)'"
      ]
     },
     "execution_count": 31,
     "metadata": {},
     "output_type": "execute_result"
    }
   ],
   "source": [
    "gen.get_Hose_codes(mol, 4, usestereo=True, max_radius=0, wedgebond=wedgemap)"
   ]
  },
  {
   "cell_type": "markdown",
   "id": "5a755689-af53-497c-8aac-7850042bfd2c",
   "metadata": {},
   "source": [
    "# II. HOSE-Based Nearest Neighbors Model<a class=\"anchor\" id=\"II\"></a>\n",
    "\n",
    "The **HOSE-Based Nearest Neighbors Model** relies entirely on a database-driven search using HOSE codes. This approach demonstrates strong predictive performance when the training data contains highly similar molecules.\n",
    "\n",
    "**Methodology:**\n",
    "\n",
    "1. **Database Creation**: A HOSE Code-NMR shift database is constructed from the training dataset.\n",
    "2. **Prediction**: For each atom in the validation/test dataset, the database is searched to find atoms with the same HOSE code. If multiple matches are found, the predicted shift is the average of their shifts.\n",
    "\n",
    "HOSE codes can be generated with different radii. For a new atom, the search starts by looking for an exact match in the database with HOSE code generated with maximum radius (`max_radius`) of 6. If multiple matches are found, the average shift is returned and assigned a `similarity score` of 6. If no match is found, the search proceeds with HOSE code generated with `max_radius = 5`, and so on, until a match is found.\n",
    "\n",
    "**Similarity Scoring:**\n",
    "\n",
    "The similarity score for each prediction, which reflects the accuracy of the prediction to some extent, is based on the radius level of the HOSE code where a match is found\n",
    "- **6**: Match found with `max_radius = 6`\n",
    "- **5**: Match found with `max_radius = 5`\n",
    "- **4**: Match found with `max_radius = 4` (HOSE codes with four or more spheres, including stereochemistry, are considered reliable)\n",
    "- **3**: Match found with `max_radius = 3`\n",
    "- **2**: Match found with `max_radius = 2`\n",
    "- **1**: Match found with `max_radius = 1`\n",
    "\n"
   ]
  },
  {
   "cell_type": "markdown",
   "id": "dd70ff2e-0ff6-4b47-a703-7c2caa5f2283",
   "metadata": {},
   "source": [
    "## 2.1 Database Creation<a class=\"anchor\" id=\"2.1\"></a>\n",
    "A HOSE Code-NMR shift database is constructed from the training dataset."
   ]
  },
  {
   "cell_type": "code",
   "execution_count": 5,
   "id": "a218c6b5-2b6c-4d3b-9d42-7db40b305fe6",
   "metadata": {},
   "outputs": [
    {
     "name": "stdout",
     "output_type": "stream",
     "text": [
      "Number of fluorinated compounds in the train and test datasets are 549 and 98 respectively.\n",
      "Ratio of PFAS in the train and test datasets are 0.61 and 1.00 respectively.\n"
     ]
    }
   ],
   "source": [
    "#\n",
    "# Get the train, validation, and test datasets\n",
    "#\n",
    "data_path = os.path.join(\"..\", \"dataset\", \"Processed_PFAS_19F_NMR_spectra_data.csv\")\n",
    "All_fluorinated_compounds = pd.read_csv(data_path)\n",
    "train_dataset, test_fluorinated_compounds = common.split_datasets(All_fluorinated_compounds, RANDOM_STATE=RANDOM_STATE, verbose = True)"
   ]
  },
  {
   "cell_type": "code",
   "execution_count": 6,
   "id": "19229ea0",
   "metadata": {},
   "outputs": [
    {
     "data": {
      "text/html": [
       "<div>\n",
       "<style scoped>\n",
       "    .dataframe tbody tr th:only-of-type {\n",
       "        vertical-align: middle;\n",
       "    }\n",
       "\n",
       "    .dataframe tbody tr th {\n",
       "        vertical-align: top;\n",
       "    }\n",
       "\n",
       "    .dataframe thead th {\n",
       "        text-align: right;\n",
       "    }\n",
       "</style>\n",
       "<table border=\"1\" class=\"dataframe\">\n",
       "  <thead>\n",
       "    <tr style=\"text-align: right;\">\n",
       "      <th></th>\n",
       "      <th>0</th>\n",
       "      <th>1</th>\n",
       "      <th>2</th>\n",
       "      <th>3</th>\n",
       "      <th>4</th>\n",
       "      <th>5</th>\n",
       "      <th>NMR_Peaks</th>\n",
       "    </tr>\n",
       "  </thead>\n",
       "  <tbody>\n",
       "    <tr>\n",
       "      <th>4_COOH_1</th>\n",
       "      <td>F-1;C(//)</td>\n",
       "      <td>F-1;C(CCF//)</td>\n",
       "      <td>F-1;C(CCF/=OO,FFF,/)</td>\n",
       "      <td>F-1;C(CCF/=OO,FFF,/,,,,)</td>\n",
       "      <td>F-1;C(CCF/=OO,FFF,/,,,,)/</td>\n",
       "      <td>F-1;C(CCF/=OO,FFF,/,,,,)//</td>\n",
       "      <td>-122.45</td>\n",
       "    </tr>\n",
       "    <tr>\n",
       "      <th>5_COOH_1</th>\n",
       "      <td>F-1;C(//)</td>\n",
       "      <td>F-1;C(CCF//)</td>\n",
       "      <td>F-1;C(CCF/=OO,FFF,/)</td>\n",
       "      <td>F-1;C(CCF/=OO,FFF,/,,,,)</td>\n",
       "      <td>F-1;C(CCF/=OO,FFF,/,,,,)/</td>\n",
       "      <td>F-1;C(CCF/=OO,FFF,/,,,,)//</td>\n",
       "      <td>-122.45</td>\n",
       "    </tr>\n",
       "    <tr>\n",
       "      <th>7_COOH_1</th>\n",
       "      <td>F-1;C(//)</td>\n",
       "      <td>F-1;C(CFF//)</td>\n",
       "      <td>F-1;C(CFF/CFF,,/)</td>\n",
       "      <td>F-1;C(CFF/CFF,,/=OO,,)</td>\n",
       "      <td>F-1;C(CFF/CFF,,/=OO,,),/</td>\n",
       "      <td>F-1;C(CFF/CFF,,/=OO,,),//</td>\n",
       "      <td>-83.4</td>\n",
       "    </tr>\n",
       "    <tr>\n",
       "      <th>8_COOH_1</th>\n",
       "      <td>F-1;C(//)</td>\n",
       "      <td>F-1;C(CFF//)</td>\n",
       "      <td>F-1;C(CFF/CFF,,/)</td>\n",
       "      <td>F-1;C(CFF/CFF,,/=OO,,)</td>\n",
       "      <td>F-1;C(CFF/CFF,,/=OO,,),/</td>\n",
       "      <td>F-1;C(CFF/CFF,,/=OO,,),//</td>\n",
       "      <td>-83.4</td>\n",
       "    </tr>\n",
       "    <tr>\n",
       "      <th>9_COOH_1</th>\n",
       "      <td>F-1;C(//)</td>\n",
       "      <td>F-1;C(CFF//)</td>\n",
       "      <td>F-1;C(CFF/CFF,,/)</td>\n",
       "      <td>F-1;C(CFF/CFF,,/=OO,,)</td>\n",
       "      <td>F-1;C(CFF/CFF,,/=OO,,),/</td>\n",
       "      <td>F-1;C(CFF/CFF,,/=OO,,),//</td>\n",
       "      <td>-83.4</td>\n",
       "    </tr>\n",
       "  </tbody>\n",
       "</table>\n",
       "</div>"
      ],
      "text/plain": [
       "                  0             1                     2  \\\n",
       "4_COOH_1  F-1;C(//)  F-1;C(CCF//)  F-1;C(CCF/=OO,FFF,/)   \n",
       "5_COOH_1  F-1;C(//)  F-1;C(CCF//)  F-1;C(CCF/=OO,FFF,/)   \n",
       "7_COOH_1  F-1;C(//)  F-1;C(CFF//)     F-1;C(CFF/CFF,,/)   \n",
       "8_COOH_1  F-1;C(//)  F-1;C(CFF//)     F-1;C(CFF/CFF,,/)   \n",
       "9_COOH_1  F-1;C(//)  F-1;C(CFF//)     F-1;C(CFF/CFF,,/)   \n",
       "\n",
       "                                 3                          4  \\\n",
       "4_COOH_1  F-1;C(CCF/=OO,FFF,/,,,,)  F-1;C(CCF/=OO,FFF,/,,,,)/   \n",
       "5_COOH_1  F-1;C(CCF/=OO,FFF,/,,,,)  F-1;C(CCF/=OO,FFF,/,,,,)/   \n",
       "7_COOH_1    F-1;C(CFF/CFF,,/=OO,,)   F-1;C(CFF/CFF,,/=OO,,),/   \n",
       "8_COOH_1    F-1;C(CFF/CFF,,/=OO,,)   F-1;C(CFF/CFF,,/=OO,,),/   \n",
       "9_COOH_1    F-1;C(CFF/CFF,,/=OO,,)   F-1;C(CFF/CFF,,/=OO,,),/   \n",
       "\n",
       "                                   5 NMR_Peaks  \n",
       "4_COOH_1  F-1;C(CCF/=OO,FFF,/,,,,)//   -122.45  \n",
       "5_COOH_1  F-1;C(CCF/=OO,FFF,/,,,,)//   -122.45  \n",
       "7_COOH_1   F-1;C(CFF/CFF,,/=OO,,),//     -83.4  \n",
       "8_COOH_1   F-1;C(CFF/CFF,,/=OO,,),//     -83.4  \n",
       "9_COOH_1   F-1;C(CFF/CFF,,/=OO,,),//     -83.4  "
      ]
     },
     "execution_count": 6,
     "metadata": {},
     "output_type": "execute_result"
    }
   ],
   "source": [
    "example = All_fluorinated_compounds[All_fluorinated_compounds[\"Compound name\"] == \"perfluoropropionic acid\"]\n",
    "example = hose_code.getHoseCodeContent(example)\n",
    "example"
   ]
  },
  {
   "cell_type": "code",
   "execution_count": 7,
   "id": "b9b72e0c",
   "metadata": {},
   "outputs": [],
   "source": [
    "random_seeds = [42, 30, 512, 76, 61]\n",
    "\n",
    "def test_HOSE_model_performance(dataset, random_seeds):\n",
    "    '''\n",
    "    Splite the dataset into training and validation sets;\n",
    "    Use the training set to build HOSE code database, which will be used to predict the NMR chemical shifts of fluorinated compounds in the validation set.\n",
    "    Get the performance of the mode on the validatiaon dataset.\n",
    "    '''\n",
    "    vali_results = {}\n",
    "    vali_results_tables = pd.DataFrame()\n",
    "    HOSE_code_train_tables = pd.DataFrame()\n",
    "    HOSE_code_vali_tables = pd.DataFrame()\n",
    "    for random_seed in random_seeds:\n",
    "        print(f\"\\n>>>>> Random seed: {random_seed} <<<<<\")\n",
    "        train_fluorinated_compounds, vali_fluorinated_compounds = common.split_datasets(\n",
    "            dataset, RANDOM_STATE=random_seed\n",
    "        )\n",
    "        # Data processing and get HOSE databse using the training set\n",
    "        HOSE_Code_database = hose_code.getHoseCodeContent(train_fluorinated_compounds)\n",
    "        HOSE_code_train_tables = pd.concat([HOSE_code_train_tables, HOSE_Code_database], axis=0)\n",
    "\n",
    "        # Get HOSE Code and corresponding 19F NMR values using train dataset\n",
    "        sphere_dics = hose_code.getTrainDictionary_HOSE(HOSE_Code_database)\n",
    "        HOSE_Code_database[\"NMR_Peaks\"] = HOSE_Code_database[\"NMR_Peaks\"].astype(float)\n",
    "\n",
    "        HOSE_codes_vali = hose_code.getHoseCodeContent(vali_fluorinated_compounds)\n",
    "        HOSE_code_vali_tables = pd.concat([HOSE_code_vali_tables, HOSE_codes_vali], axis=0)\n",
    "\n",
    "        # Get prediction results and corresponding similarity levels for the validation dataset\n",
    "        prediction, similarity_levels = hose_code.HOSE_Model(\n",
    "            sphere_dics, test_data = HOSE_codes_vali, mean_value_in_train_data = HOSE_Code_database[\"NMR_Peaks\"].mean()\n",
    "        )\n",
    "\n",
    "        # Validation dataset\n",
    "        vali_results_table = hose_code.getResults_HOSE(prediction, similarity_levels, HOSE_codes_vali)\n",
    "\n",
    "        vali_results_table = vali_results_table.dropna(subset = ['actual'])\n",
    "\n",
    "        vali_mae = mean_absolute_error(vali_results_table['actual'], vali_results_table['prediction'])\n",
    "        vali_mse = mean_squared_error(vali_results_table['actual'], vali_results_table['prediction'])\n",
    "        vali_rmse = np.sqrt(vali_mse)\n",
    "        vali_r2 = r2_score(vali_results_table['actual'], vali_results_table['prediction'])\n",
    "        vali_results[f'random_seed = {random_seed}'] = {'mae': vali_mae, 'rmse': vali_rmse, 'r2': vali_r2}\n",
    "\n",
    "        vali_results_tables = pd.concat([vali_results_tables, vali_results_table], axis=0)\n",
    "\n",
    "    vali_results_df = pd.DataFrame(vali_results).T\n",
    "\n",
    "    print('--------Validation results DataFrame--------')\n",
    "    display(vali_results_df)\n",
    "    return HOSE_code_train_tables, HOSE_code_vali_tables, vali_results_tables, vali_results_df"
   ]
  },
  {
   "cell_type": "code",
   "execution_count": 8,
   "id": "b58413a1-e954-4ce1-8b39-f27937ad4587",
   "metadata": {},
   "outputs": [
    {
     "name": "stdout",
     "output_type": "stream",
     "text": [
      "\n",
      ">>>>> Random seed: 42 <<<<<\n"
     ]
    },
    {
     "name": "stderr",
     "output_type": "stream",
     "text": [
      "[17:27:08] UFFTYPER: Warning: hybridization set to SP3 for atom 6\n"
     ]
    },
    {
     "name": "stdout",
     "output_type": "stream",
     "text": [
      "\n",
      ">>>>> Random seed: 30 <<<<<\n"
     ]
    },
    {
     "name": "stderr",
     "output_type": "stream",
     "text": [
      "[17:27:11] UFFTYPER: Warning: hybridization set to SP3 for atom 6\n"
     ]
    },
    {
     "name": "stdout",
     "output_type": "stream",
     "text": [
      "\n",
      ">>>>> Random seed: 512 <<<<<\n"
     ]
    },
    {
     "name": "stderr",
     "output_type": "stream",
     "text": [
      "[17:27:18] UFFTYPER: Warning: hybridization set to SP3 for atom 6\n"
     ]
    },
    {
     "name": "stdout",
     "output_type": "stream",
     "text": [
      "\n",
      ">>>>> Random seed: 76 <<<<<\n"
     ]
    },
    {
     "name": "stderr",
     "output_type": "stream",
     "text": [
      "[17:27:26] UFFTYPER: Warning: hybridization set to SP3 for atom 6\n"
     ]
    },
    {
     "name": "stdout",
     "output_type": "stream",
     "text": [
      "\n",
      ">>>>> Random seed: 61 <<<<<\n"
     ]
    },
    {
     "name": "stderr",
     "output_type": "stream",
     "text": [
      "[17:27:29] UFFTYPER: Warning: hybridization set to SP3 for atom 6\n"
     ]
    },
    {
     "name": "stdout",
     "output_type": "stream",
     "text": [
      "--------Validation results DataFrame--------\n"
     ]
    },
    {
     "data": {
      "text/html": [
       "<div>\n",
       "<style scoped>\n",
       "    .dataframe tbody tr th:only-of-type {\n",
       "        vertical-align: middle;\n",
       "    }\n",
       "\n",
       "    .dataframe tbody tr th {\n",
       "        vertical-align: top;\n",
       "    }\n",
       "\n",
       "    .dataframe thead th {\n",
       "        text-align: right;\n",
       "    }\n",
       "</style>\n",
       "<table border=\"1\" class=\"dataframe\">\n",
       "  <thead>\n",
       "    <tr style=\"text-align: right;\">\n",
       "      <th></th>\n",
       "      <th>mae</th>\n",
       "      <th>rmse</th>\n",
       "      <th>r2</th>\n",
       "    </tr>\n",
       "  </thead>\n",
       "  <tbody>\n",
       "    <tr>\n",
       "      <th>random_seed = 42</th>\n",
       "      <td>2.622218</td>\n",
       "      <td>8.699903</td>\n",
       "      <td>0.897290</td>\n",
       "    </tr>\n",
       "    <tr>\n",
       "      <th>random_seed = 30</th>\n",
       "      <td>2.746972</td>\n",
       "      <td>7.097844</td>\n",
       "      <td>0.936098</td>\n",
       "    </tr>\n",
       "    <tr>\n",
       "      <th>random_seed = 512</th>\n",
       "      <td>3.152317</td>\n",
       "      <td>9.455695</td>\n",
       "      <td>0.873816</td>\n",
       "    </tr>\n",
       "    <tr>\n",
       "      <th>random_seed = 76</th>\n",
       "      <td>3.642379</td>\n",
       "      <td>10.691325</td>\n",
       "      <td>0.849346</td>\n",
       "    </tr>\n",
       "    <tr>\n",
       "      <th>random_seed = 61</th>\n",
       "      <td>2.314612</td>\n",
       "      <td>5.908732</td>\n",
       "      <td>0.951176</td>\n",
       "    </tr>\n",
       "  </tbody>\n",
       "</table>\n",
       "</div>"
      ],
      "text/plain": [
       "                        mae       rmse        r2\n",
       "random_seed = 42   2.622218   8.699903  0.897290\n",
       "random_seed = 30   2.746972   7.097844  0.936098\n",
       "random_seed = 512  3.152317   9.455695  0.873816\n",
       "random_seed = 76   3.642379  10.691325  0.849346\n",
       "random_seed = 61   2.314612   5.908732  0.951176"
      ]
     },
     "metadata": {},
     "output_type": "display_data"
    }
   ],
   "source": [
    "random_seeds = [42, 30, 512, 76, 61]\n",
    "\n",
    "HOSE_code_train_tables, HOSE_code_vali_tables, vali_results_tables, vali_results_df = test_HOSE_model_performance(train_dataset, random_seeds)"
   ]
  },
  {
   "cell_type": "code",
   "execution_count": 9,
   "id": "bcf02147",
   "metadata": {},
   "outputs": [],
   "source": [
    "HOSE_code_train_tables.to_csv(os.path.join(\"..\", \"artifacts\", \"results\", \"HOSE_code_train_tables_with_5_random_seeds.csv\"), index=True)\n",
    "HOSE_code_vali_tables.to_csv(os.path.join(\"..\", \"artifacts\", \"results\", \"HOSE_code_vali_tables_with_5_random_seeds.csv\"), index=True)"
   ]
  },
  {
   "cell_type": "code",
   "execution_count": 10,
   "id": "70caf3ca-e58c-4cbe-a118-dc0329ce6d41",
   "metadata": {},
   "outputs": [],
   "source": [
    "def show_HOSE_model_perfromance_on_vali(vali_results_tables, vali_results_df, model_info = ''):\n",
    "    \"\"\"\n",
    "    Show the performance of the model on the validation datasets.\n",
    "\n",
    "    These information help to evaluate the model's performance and generalization ability, identify potential overfitting or underfitting issues.\n",
    "    \n",
    "    Args:\n",
    "        vali_results_tables: DataFrame with results of the model on validation dataset.\n",
    "        vali_results_df: DataFrame with performance metrics on validation dataset.\n",
    "        model_info: String with information about the model.\n",
    "    \"\"\"\n",
    "    print(f'\\n>>>>> Model information: {model_info} <<<<<\\n')\n",
    "    print('\\nPerformance of model on validation dataset')\n",
    "    print(f'mae: {vali_results_df[\"mae\"].mean():.2f} ± {vali_results_df[\"mae\"].std():.2f}')\n",
    "    print(f'rmse: {vali_results_df[\"rmse\"].mean():.2f} ± {vali_results_df[\"rmse\"].std():.2f}')\n",
    "    print(f'r2: {vali_results_df[\"r2\"].mean():.2f} ± {vali_results_df[\"r2\"].std():.2f}')\n",
    "\n",
    "    print('\\n--------Validation results plot--------')\n",
    "    common.plot_prediction_performance(vali_results_tables)\n",
    "    print('\\n--------Validation results scatter plot--------')\n",
    "    common.show_results_scatter(vali_results_tables)"
   ]
  },
  {
   "cell_type": "code",
   "execution_count": 11,
   "id": "0d426b98",
   "metadata": {},
   "outputs": [
    {
     "name": "stdout",
     "output_type": "stream",
     "text": [
      "\n",
      ">>>>> Model information: HOSE code model <<<<<\n",
      "\n",
      "\n",
      "Performance of model on validation dataset\n",
      "mae: 2.90 ± 0.51\n",
      "rmse: 8.37 ± 1.89\n",
      "r2: 0.90 ± 0.04\n",
      "\n",
      "--------Validation results plot--------\n"
     ]
    },
    {
     "data": {
      "image/png": "[encoded data removed]",
      "text/plain": [
       "<Figure size 393.701x354.331 with 1 Axes>"
      ]
     },
     "metadata": {},
     "output_type": "display_data"
    },
    {
     "name": "stdout",
     "output_type": "stream",
     "text": [
      "\n",
      "--------Validation results scatter plot--------\n",
      "R2 = 0.90\n",
      "RMSE = 8.41\n",
      "MAE = 2.8562228043658853\n"
     ]
    },
    {
     "data": {
      "image/png": "[encoded data removed]",
      "text/plain": [
       "<Figure size 393.701x354.331 with 1 Axes>"
      ]
     },
     "metadata": {},
     "output_type": "display_data"
    }
   ],
   "source": [
    "show_HOSE_model_perfromance_on_vali(vali_results_tables, vali_results_df, model_info = 'HOSE code model')"
   ]
  },
  {
   "cell_type": "code",
   "execution_count": 12,
   "id": "0f8b4b63",
   "metadata": {},
   "outputs": [
    {
     "data": {
      "text/html": [
       "<div>\n",
       "<style scoped>\n",
       "    .dataframe tbody tr th:only-of-type {\n",
       "        vertical-align: middle;\n",
       "    }\n",
       "\n",
       "    .dataframe tbody tr th {\n",
       "        vertical-align: top;\n",
       "    }\n",
       "\n",
       "    .dataframe thead th {\n",
       "        text-align: right;\n",
       "    }\n",
       "</style>\n",
       "<table border=\"1\" class=\"dataframe\">\n",
       "  <thead>\n",
       "    <tr style=\"text-align: right;\">\n",
       "      <th></th>\n",
       "      <th>actual</th>\n",
       "      <th>prediction</th>\n",
       "      <th>diff</th>\n",
       "      <th>similarity_levels</th>\n",
       "    </tr>\n",
       "  </thead>\n",
       "  <tbody>\n",
       "    <tr>\n",
       "      <th>4_COOH_29</th>\n",
       "      <td>-120.1</td>\n",
       "      <td>-119.621538</td>\n",
       "      <td>0.478462</td>\n",
       "      <td>6</td>\n",
       "    </tr>\n",
       "    <tr>\n",
       "      <th>5_COOH_29</th>\n",
       "      <td>-120.1</td>\n",
       "      <td>-119.621538</td>\n",
       "      <td>0.478462</td>\n",
       "      <td>6</td>\n",
       "    </tr>\n",
       "    <tr>\n",
       "      <th>7_COOH_29</th>\n",
       "      <td>-122.8</td>\n",
       "      <td>-122.301818</td>\n",
       "      <td>0.498182</td>\n",
       "      <td>6</td>\n",
       "    </tr>\n",
       "    <tr>\n",
       "      <th>8_COOH_29</th>\n",
       "      <td>-122.8</td>\n",
       "      <td>-122.301818</td>\n",
       "      <td>0.498182</td>\n",
       "      <td>6</td>\n",
       "    </tr>\n",
       "    <tr>\n",
       "      <th>10_COOH_29</th>\n",
       "      <td>-122.8</td>\n",
       "      <td>-122.325000</td>\n",
       "      <td>0.475000</td>\n",
       "      <td>6</td>\n",
       "    </tr>\n",
       "  </tbody>\n",
       "</table>\n",
       "</div>"
      ],
      "text/plain": [
       "            actual  prediction      diff  similarity_levels\n",
       "4_COOH_29   -120.1 -119.621538  0.478462                  6\n",
       "5_COOH_29   -120.1 -119.621538  0.478462                  6\n",
       "7_COOH_29   -122.8 -122.301818  0.498182                  6\n",
       "8_COOH_29   -122.8 -122.301818  0.498182                  6\n",
       "10_COOH_29  -122.8 -122.325000  0.475000                  6"
      ]
     },
     "execution_count": 12,
     "metadata": {},
     "output_type": "execute_result"
    }
   ],
   "source": [
    "vali_results_tables.head()"
   ]
  },
  {
   "cell_type": "code",
   "execution_count": 13,
   "id": "4e8cdc3f",
   "metadata": {},
   "outputs": [
    {
     "data": {
      "text/html": [
       "<div>\n",
       "<style scoped>\n",
       "    .dataframe tbody tr th:only-of-type {\n",
       "        vertical-align: middle;\n",
       "    }\n",
       "\n",
       "    .dataframe tbody tr th {\n",
       "        vertical-align: top;\n",
       "    }\n",
       "\n",
       "    .dataframe thead th {\n",
       "        text-align: right;\n",
       "    }\n",
       "</style>\n",
       "<table border=\"1\" class=\"dataframe\">\n",
       "  <thead>\n",
       "    <tr style=\"text-align: right;\">\n",
       "      <th></th>\n",
       "      <th>mae</th>\n",
       "      <th>rmse</th>\n",
       "      <th>r2</th>\n",
       "    </tr>\n",
       "  </thead>\n",
       "  <tbody>\n",
       "    <tr>\n",
       "      <th>random_seed = 42</th>\n",
       "      <td>2.622218</td>\n",
       "      <td>8.699903</td>\n",
       "      <td>0.897290</td>\n",
       "    </tr>\n",
       "    <tr>\n",
       "      <th>random_seed = 30</th>\n",
       "      <td>2.746972</td>\n",
       "      <td>7.097844</td>\n",
       "      <td>0.936098</td>\n",
       "    </tr>\n",
       "    <tr>\n",
       "      <th>random_seed = 512</th>\n",
       "      <td>3.152317</td>\n",
       "      <td>9.455695</td>\n",
       "      <td>0.873816</td>\n",
       "    </tr>\n",
       "    <tr>\n",
       "      <th>random_seed = 76</th>\n",
       "      <td>3.642379</td>\n",
       "      <td>10.691325</td>\n",
       "      <td>0.849346</td>\n",
       "    </tr>\n",
       "    <tr>\n",
       "      <th>random_seed = 61</th>\n",
       "      <td>2.314612</td>\n",
       "      <td>5.908732</td>\n",
       "      <td>0.951176</td>\n",
       "    </tr>\n",
       "  </tbody>\n",
       "</table>\n",
       "</div>"
      ],
      "text/plain": [
       "                        mae       rmse        r2\n",
       "random_seed = 42   2.622218   8.699903  0.897290\n",
       "random_seed = 30   2.746972   7.097844  0.936098\n",
       "random_seed = 512  3.152317   9.455695  0.873816\n",
       "random_seed = 76   3.642379  10.691325  0.849346\n",
       "random_seed = 61   2.314612   5.908732  0.951176"
      ]
     },
     "execution_count": 13,
     "metadata": {},
     "output_type": "execute_result"
    }
   ],
   "source": [
    "vali_results_df.head()"
   ]
  },
  {
   "cell_type": "code",
   "execution_count": 33,
   "id": "05994105",
   "metadata": {},
   "outputs": [
    {
     "data": {
      "text/html": [
       "<div>\n",
       "<style scoped>\n",
       "    .dataframe tbody tr th:only-of-type {\n",
       "        vertical-align: middle;\n",
       "    }\n",
       "\n",
       "    .dataframe tbody tr th {\n",
       "        vertical-align: top;\n",
       "    }\n",
       "\n",
       "    .dataframe thead th {\n",
       "        text-align: right;\n",
       "    }\n",
       "</style>\n",
       "<table border=\"1\" class=\"dataframe\">\n",
       "  <thead>\n",
       "    <tr style=\"text-align: right;\">\n",
       "      <th></th>\n",
       "      <th>mae</th>\n",
       "      <th>rmse</th>\n",
       "      <th>r2</th>\n",
       "    </tr>\n",
       "  </thead>\n",
       "  <tbody>\n",
       "    <tr>\n",
       "      <th>count</th>\n",
       "      <td>5.000000</td>\n",
       "      <td>5.000000</td>\n",
       "      <td>5.000000</td>\n",
       "    </tr>\n",
       "    <tr>\n",
       "      <th>mean</th>\n",
       "      <td>2.895699</td>\n",
       "      <td>8.370700</td>\n",
       "      <td>0.901545</td>\n",
       "    </tr>\n",
       "    <tr>\n",
       "      <th>std</th>\n",
       "      <td>0.514286</td>\n",
       "      <td>1.894224</td>\n",
       "      <td>0.042335</td>\n",
       "    </tr>\n",
       "    <tr>\n",
       "      <th>min</th>\n",
       "      <td>2.314612</td>\n",
       "      <td>5.908732</td>\n",
       "      <td>0.849346</td>\n",
       "    </tr>\n",
       "    <tr>\n",
       "      <th>25%</th>\n",
       "      <td>2.622218</td>\n",
       "      <td>7.097844</td>\n",
       "      <td>0.873816</td>\n",
       "    </tr>\n",
       "    <tr>\n",
       "      <th>50%</th>\n",
       "      <td>2.746972</td>\n",
       "      <td>8.699903</td>\n",
       "      <td>0.897290</td>\n",
       "    </tr>\n",
       "    <tr>\n",
       "      <th>75%</th>\n",
       "      <td>3.152317</td>\n",
       "      <td>9.455695</td>\n",
       "      <td>0.936098</td>\n",
       "    </tr>\n",
       "    <tr>\n",
       "      <th>max</th>\n",
       "      <td>3.642379</td>\n",
       "      <td>10.691325</td>\n",
       "      <td>0.951176</td>\n",
       "    </tr>\n",
       "  </tbody>\n",
       "</table>\n",
       "</div>"
      ],
      "text/plain": [
       "            mae       rmse        r2\n",
       "count  5.000000   5.000000  5.000000\n",
       "mean   2.895699   8.370700  0.901545\n",
       "std    0.514286   1.894224  0.042335\n",
       "min    2.314612   5.908732  0.849346\n",
       "25%    2.622218   7.097844  0.873816\n",
       "50%    2.746972   8.699903  0.897290\n",
       "75%    3.152317   9.455695  0.936098\n",
       "max    3.642379  10.691325  0.951176"
      ]
     },
     "execution_count": 33,
     "metadata": {},
     "output_type": "execute_result"
    }
   ],
   "source": [
    "vali_results_df.describe()"
   ]
  },
  {
   "cell_type": "markdown",
   "id": "e57e8a8f-e58a-4ec7-bfe9-79063e6f51fa",
   "metadata": {},
   "source": [
    "## 2.2 Prediction on the Validation dataset<a class=\"anchor\" id=\"2.2\"></a>\n",
    "## 2.2.1. Generate HOSE codes for the Validation dataset<a class=\"anchor\" id=\"2.2.1\"></a>"
   ]
  },
  {
   "cell_type": "markdown",
   "id": "4859a4ee",
   "metadata": {},
   "source": [
    "## 2.2.2 Search the database and get prediction results<a class=\"anchor\" id=\"2.2.2\"></a>"
   ]
  },
  {
   "cell_type": "code",
   "execution_count": 14,
   "id": "b0582359-fe2f-44de-b860-fb44637ee8a6",
   "metadata": {},
   "outputs": [
    {
     "data": {
      "image/png": "[encoded data removed]",
      "text/plain": [
       "<Figure size 393.701x354.331 with 1 Axes>"
      ]
     },
     "metadata": {},
     "output_type": "display_data"
    }
   ],
   "source": [
    "# Plot the distribution of data points across different similarity levels\n",
    "# Sort the value counts by the index (the similarity levels)\n",
    "results = vali_results_tables.copy()\n",
    "\n",
    "# results['similarity_levels'] = results['similarity_levels'].apply(lambda x:x if x < 4 else 4)\n",
    "\n",
    "sorted_counts = results[\"similarity_levels\"].value_counts(normalize=True).sort_index()\n",
    "\n",
    "cm = 1 / 2.54  # centimeters in inches\n",
    "fig, ax = plt.subplots(figsize=(10 * cm, 9 * cm))  # 8 cm x 8 cm\n",
    "\n",
    "# Plotting the sorted value counts\n",
    "ax = sorted_counts.plot(kind=\"bar\", color=\"#069AF3\")\n",
    "\n",
    "# Adding the percentage labels above each bar\n",
    "for p in ax.patches:\n",
    "    ax.annotate(\n",
    "        f\"{p.get_height():.1%}\",  # Format the height as a percentage\n",
    "        (\n",
    "            p.get_x() + p.get_width() / 2.0,\n",
    "            p.get_height(),\n",
    "        ),  # Position for the annotation\n",
    "        ha=\"center\",  # Horizontal alignment: center\n",
    "        va=\"center\",  # Vertical alignment: center\n",
    "        xytext=(0, 9),  # Offset the text by 9 points above the bar\n",
    "        textcoords=\"offset points\",  # Use offset points to position the text\n",
    "    )\n",
    "\n",
    "# Set border (edge) line width\n",
    "ax.spines[\"top\"].set_linewidth(1)  # Top border\n",
    "ax.spines[\"right\"].set_linewidth(1)  # Right border\n",
    "ax.spines[\"bottom\"].set_linewidth(1)  # Bottom border\n",
    "ax.spines[\"left\"].set_linewidth(1)  # Left border\n",
    "\n",
    "# Set axis titles and tick label font sizes\n",
    "ax.set_xlabel(\"Similarity levels\", fontsize=14)  # Replace with your label\n",
    "ax.set_ylabel(\"Ratio\", fontsize=14)  # Replace with your label\n",
    "ax.tick_params(axis=\"x\", labelsize=12)  # X-axis numbers font size\n",
    "ax.tick_params(axis=\"y\", labelsize=12)  # Y-axis numbers font size\n",
    "\n",
    "ax.set_ylim([0, 0.8])\n",
    "ax.set_yticks([0, 0.2, 0.4, 0.6, 0.8])  # Set x-axis labels to be more readable\n",
    "# Set the x-axis labels in the correct order\n",
    "ax.set_xticklabels(sorted_counts.index)\n",
    "ax.tick_params(axis=\"x\", rotation=0)\n",
    "\n",
    "plt.show()"
   ]
  },
  {
   "cell_type": "markdown",
   "id": "a62aaa26",
   "metadata": {},
   "source": [
    "The distribution of data points in the validation dataset across different similarity levels"
   ]
  },
  {
   "cell_type": "markdown",
   "id": "d9b56324",
   "metadata": {},
   "source": [
    "## 2.2.3 Visualize Prediction Performance in the Validation Dataset<a class=\"anchor\" id=\"2.2.3\"></a>"
   ]
  },
  {
   "cell_type": "code",
   "execution_count": 15,
   "id": "647ac64b-d17c-4640-95bd-661125a7db88",
   "metadata": {},
   "outputs": [
    {
     "data": {
      "image/png": "[encoded data removed]",
      "text/plain": [
       "<Figure size 393.701x354.331 with 1 Axes>"
      ]
     },
     "metadata": {},
     "output_type": "display_data"
    }
   ],
   "source": [
    "# Create the figure and axes with specified size\n",
    "cm = 1 / 2.54  # centimeters in inches\n",
    "fig, ax = plt.subplots(figsize=(10 * cm, 9 * cm))  # 8 cm x 8 cm\n",
    "ax = (\n",
    "    results.groupby(\"similarity_levels\")[\"diff\"]\n",
    "    .mean()\n",
    "    .plot(kind=\"bar\", color=\"#069AF3\")\n",
    ")\n",
    "\n",
    "# Add the height (mean value) above each bar\n",
    "for p in ax.patches:\n",
    "    ax.annotate(\n",
    "        f\"{p.get_height():.1f}\",  # Format the height to two decimal places\n",
    "        (\n",
    "            p.get_x() + p.get_width() / 2.0,\n",
    "            p.get_height(),\n",
    "        ),  # Position for the annotation\n",
    "        ha=\"center\",  # Horizontal alignment: center\n",
    "        va=\"center\",  # Vertical alignment: center\n",
    "        xytext=(0, 9),  # Offset the text by 9 points above the bar\n",
    "        textcoords=\"offset points\",  # Use offset points to position the text\n",
    "    )\n",
    "\n",
    "ax.tick_params(axis=\"x\", rotation=0)\n",
    "\n",
    "# Set border (edge) line width\n",
    "ax.spines[\"top\"].set_linewidth(1)  # Top border\n",
    "ax.spines[\"right\"].set_linewidth(1)  # Right border\n",
    "ax.spines[\"bottom\"].set_linewidth(1)  # Bottom border\n",
    "ax.spines[\"left\"].set_linewidth(1)  # Left border\n",
    "\n",
    "# Set axis titles and tick label font sizes\n",
    "ax.set_xlabel(\"Similarity levels\", fontsize=14)  # Replace with your label\n",
    "ax.set_ylabel(\"MAE (ppm)\", fontsize=14)  # Replace with your label\n",
    "ax.tick_params(axis=\"x\", labelsize=12)  # X-axis numbers font size\n",
    "ax.tick_params(axis=\"y\", labelsize=12)  # Y-axis numbers font size\n",
    "\n",
    "ax.set_ylim([0, 75])\n",
    "\n",
    "plt.show()"
   ]
  },
  {
   "cell_type": "markdown",
   "id": "dc7f8024",
   "metadata": {},
   "source": [
    "Prediction performance of the HOSE-Based Nearest Neighbors Model on the validation dataset"
   ]
  },
  {
   "cell_type": "code",
   "execution_count": 16,
   "id": "9f98ddb1-d1cb-4c20-a86f-87b333da2285",
   "metadata": {},
   "outputs": [],
   "source": [
    "file_path = os.path.join(\n",
    "    \"..\", \"artifacts\", \"results\", \"HOSE Results On Validation Dataset with 5 Random Seeds.csv\"\n",
    ")\n",
    "\n",
    "results.to_csv(file_path, encoding=\"utf-8\", index=True)"
   ]
  },
  {
   "cell_type": "code",
   "execution_count": null,
   "id": "48e3a4c5",
   "metadata": {},
   "outputs": [],
   "source": []
  }
 ],
 "metadata": {
  "kernelspec": {
   "display_name": ".venv",
   "language": "python",
   "name": "python3"
  },
  "language_info": {
   "codemirror_mode": {
    "name": "ipython",
    "version": 3
   },
   "file_extension": ".py",
   "mimetype": "text/x-python",
   "name": "python",
   "nbconvert_exporter": "python",
   "pygments_lexer": "ipython3",
   "version": "3.12.11"
  }
 },
 "nbformat": 4,
 "nbformat_minor": 5
}
