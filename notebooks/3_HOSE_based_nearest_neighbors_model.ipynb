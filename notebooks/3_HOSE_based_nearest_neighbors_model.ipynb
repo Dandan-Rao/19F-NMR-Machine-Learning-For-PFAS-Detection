{
 "cells": [
  {
   "cell_type": "markdown",
   "id": "1815ed3b",
   "metadata": {},
   "source": [
    "* [I. Introduction](#I)\n",
    "    * [1.1 Generate standard HOSE Codes](#1.1)\n",
    "    * [1.2 Generate Stereo-Enhanced HOSE Codes](#1.2)\n",
    "* [II. HOSE-Based Nearest Neighbors Model](#II)\n",
    "    * [2.1 Database Creation](#2.1)\n",
    "    * [2.2 Prediction on the Validation dataset](#2.2)\n",
    "        * [2.2.1. Generate HOSE codes for the Validation dataset](#2.2.1)\n",
    "        * [2.2.2 Search the database and get prediction results](#2.2.2)\n",
    "        * [2.2.3 Visualize Prediction Performance in the Validation Dataset](#2.2.3)\n",
    "* [III. Compare prediction results using different model](#III)"
   ]
  },
  {
   "cell_type": "markdown",
   "id": "db8e6c73",
   "metadata": {},
   "source": [
    "# I. Introduction<a class=\"anchor\" id=\"I\"></a>\n",
    "## 1.1 Generate standard HOSE Codes<a class=\"anchor\" id=\"1.2\"></a>\n",
    "The HOSE code is hierarchical descriptors that encode information about the chemical environment around an atom.  It is built sphere-wise around the atom described;"
   ]
  },
  {
   "cell_type": "code",
   "execution_count": 1,
   "id": "76daf720-1094-45bb-8115-b25224cace7b",
   "metadata": {},
   "outputs": [],
   "source": [
    "# !pip install -e .\n",
    "import sys\n",
    "import os\n",
    "import pandas as pd\n",
    "from rdkit import Chem\n",
    "\n",
    "RANDOM_STATE = 1\n",
    "\n",
    "from sklearn.model_selection import train_test_split\n",
    "\n",
    "# plot\n",
    "import matplotlib.pyplot as plt\n",
    "\n",
    "%matplotlib inline\n",
    "\n",
    "src_path = os.path.join(\"..\")\n",
    "if src_path not in sys.path:\n",
    "    sys.path.append(src_path)\n",
    "\n",
    "src_path = os.path.join(\"..\", \"src\")\n",
    "if src_path not in sys.path:\n",
    "    sys.path.append(src_path)\n",
    "\n",
    "src_path = os.path.join(\"..\", \"external\", \"HOSE_code_generator\")\n",
    "if src_path not in sys.path:\n",
    "    sys.path.append(src_path)\n",
    "\n",
    "from src import (\n",
    "    common,\n",
    "    hose_code,\n",
    ")  # Some common methods I defined\n",
    "\n",
    "\n",
    "from hosegen import HoseGenerator\n",
    "from hosegen.geometry import *\n",
    "\n",
    "pd.set_option(\"display.max_rows\", 10)\n",
    "pd.set_option(\"display.max_columns\", 100)\n",
    "\n",
    "pd.options.mode.chained_assignment = None  # Suppress the SettingWithCopyWarning"
   ]
  },
  {
   "cell_type": "markdown",
   "id": "c26378b6",
   "metadata": {},
   "source": [
    "The methods *get_Hose_codes* and *get_Hose_codes_from_file* can be used to generate a standard HOSE code.\n",
    "Both need the index of the atom for which the HOSE code should be created as *atom_idx*. *max_radius* gives the number of spheres to use (default 5). *usestereo*, *wedgebond*, and *strict* are only used for the stereo-enhanced hose code (see below)."
   ]
  },
  {
   "cell_type": "code",
   "execution_count": 2,
   "id": "91c7dbfb-2ad2-4548-b68a-fdc7b3c827bd",
   "metadata": {},
   "outputs": [
    {
     "data": {
      "text/plain": [
       "'F-1;C(=CF/OF,/C,)*C*C/'"
      ]
     },
     "execution_count": 2,
     "metadata": {},
     "output_type": "execute_result"
    }
   ],
   "source": [
    "compound = Chem.MolFromSmiles(\"FC(F)=C(F)Oc1ccc(CBr)cc1\")\n",
    "gen = HoseGenerator()\n",
    "gen.get_Hose_codes(compound, 0)"
   ]
  },
  {
   "cell_type": "markdown",
   "id": "9b6114bb-76ee-4956-a7c5-afdd5e74e8e5",
   "metadata": {},
   "source": [
    "## 1.2 Generate Stereo-Enhanced HOSE Codes<a class=\"anchor\" id=\"1.3\"></a>\n",
    "HOSE codes are generated for a specified atom in the molecule, considering stereochemistry and different neighborhood radii around that atom."
   ]
  },
  {
   "cell_type": "code",
   "execution_count": 3,
   "id": "b9b7368e-3a30-4ed7-8045-71cc22d3fdc4",
   "metadata": {},
   "outputs": [
    {
     "data": {
      "text/plain": [
       "'F-1;C(=CF/OF,/C,)*C*C/*C,*C/'"
      ]
     },
     "execution_count": 3,
     "metadata": {},
     "output_type": "execute_result"
    }
   ],
   "source": [
    "# Input SMILES with double bond\n",
    "smiles_input = \"FC(F)=C(F)Oc1ccc(CBr)cc1\"\n",
    "\n",
    "# Create a molecule object from the SMILES string\n",
    "mol = Chem.MolFromSmiles(smiles_input)\n",
    "\n",
    "# Generate the canonical SMILES while preserving stereochemistry\n",
    "canonical_smiles = Chem.MolToSmiles(mol, isomericSmiles=True)\n",
    "\n",
    "output_file_path = \"Example.mol\"\n",
    "Chem.MolToMolFile(mol, output_file_path)\n",
    "\n",
    "# A map of wedge bonds. Wedge bonds in chemistry are used to represent the 3D orientation of bonds\n",
    "wedgemap = create_wedgemap(output_file_path)\n",
    "\n",
    "# Initializes an instance of the HoseGenerator class\n",
    "gen = HoseGenerator()\n",
    "\n",
    "# Generate HOSE codes for atom 0 in the molecule\n",
    "gen.get_Hose_codes(mol, 0, usestereo=True, max_radius=6, wedgebond=wedgemap)"
   ]
  },
  {
   "cell_type": "markdown",
   "id": "5a755689-af53-497c-8aac-7850042bfd2c",
   "metadata": {},
   "source": [
    "# II. HOSE-Based Nearest Neighbors Model<a class=\"anchor\" id=\"II\"></a>\n",
    "\n",
    "The **HOSE-Based Nearest Neighbors Model** relies entirely on a database-driven search using HOSE codes. This approach demonstrates strong predictive performance when the training data contains highly similar molecules.\n",
    "\n",
    "**Methodology:**\n",
    "\n",
    "1. **Database Creation**: A HOSE Code-NMR shift database is constructed from the training dataset.\n",
    "2. **Prediction**: For each atom in the validation/test dataset, the database is searched to find atoms with the same HOSE code. If multiple matches are found, the predicted shift is the average of their shifts.\n",
    "\n",
    "HOSE codes can be generated with different radii. For a new atom, the search starts by looking for an exact match in the database with HOSE code generated with maximum radius (`max_radius`) of 6. If multiple matches are found, the average shift is returned and assigned a `similarity score` of 6. If no match is found, the search proceeds with HOSE code generated with `max_radius = 5`, and so on, until a match is found.\n",
    "\n",
    "**Similarity Scoring:**\n",
    "\n",
    "The similarity score for each prediction, which reflects the accuracy of the prediction to some extent, is based on the radius level of the HOSE code where a match is found\n",
    "- **6**: Match found with `max_radius = 6`\n",
    "- **5**: Match found with `max_radius = 5`\n",
    "- **4**: Match found with `max_radius = 4` (HOSE codes with four or more spheres, including stereochemistry, are considered reliable)\n",
    "- **3**: Match found with `max_radius = 3`\n",
    "- **2**: Match found with `max_radius = 2`\n",
    "- **1**: Match found with `max_radius = 1`\n",
    "\n"
   ]
  },
  {
   "cell_type": "markdown",
   "id": "dd70ff2e-0ff6-4b47-a703-7c2caa5f2283",
   "metadata": {},
   "source": [
    "## 2.1 Database Creation<a class=\"anchor\" id=\"2.1\"></a>\n",
    "A HOSE Code-NMR shift database is constructed from the training dataset."
   ]
  },
  {
   "cell_type": "code",
   "execution_count": 4,
   "id": "a218c6b5-2b6c-4d3b-9d42-7db40b305fe6",
   "metadata": {},
   "outputs": [
    {
     "name": "stdout",
     "output_type": "stream",
     "text": [
      "Number of fluorinated_compounds in the train dataset: 439\n",
      "Number of fluorinated_compounds in the validation dataset: 110\n",
      "Number of fluorinated_compounds in the test dataset: 98\n"
     ]
    }
   ],
   "source": [
    "data_path = os.path.join(\"..\", \"dataset\", \"Raw_PFAS 19F NMR spectra data.csv\")\n",
    "\n",
    "all_fluorinated_compounds = pd.read_csv(data_path, index_col=0)\n",
    "\n",
    "# Train, validation, test dataset split\n",
    "train_fluorinated_compounds, test_fluorinated_compounds = train_test_split(\n",
    "    all_fluorinated_compounds, test_size=0.15, random_state=RANDOM_STATE, shuffle=True\n",
    ")\n",
    "train_fluorinated_compounds, vali_fluorinated_compounds = train_test_split(\n",
    "    train_fluorinated_compounds, test_size=0.2, random_state=RANDOM_STATE, shuffle=True\n",
    ")\n",
    "print(\n",
    "    f\"Number of fluorinated_compounds in the train dataset: {train_fluorinated_compounds.shape[0]}\"\n",
    ")\n",
    "print(\n",
    "    f\"Number of fluorinated_compounds in the validation dataset: {vali_fluorinated_compounds.shape[0]}\"\n",
    ")\n",
    "print(\n",
    "    f\"Number of fluorinated_compounds in the test dataset: {test_fluorinated_compounds.shape[0]}\"\n",
    ")"
   ]
  },
  {
   "cell_type": "code",
   "execution_count": 5,
   "id": "19229ea0",
   "metadata": {},
   "outputs": [
    {
     "data": {
      "text/html": [
       "<div>\n",
       "<style scoped>\n",
       "    .dataframe tbody tr th:only-of-type {\n",
       "        vertical-align: middle;\n",
       "    }\n",
       "\n",
       "    .dataframe tbody tr th {\n",
       "        vertical-align: top;\n",
       "    }\n",
       "\n",
       "    .dataframe thead th {\n",
       "        text-align: right;\n",
       "    }\n",
       "</style>\n",
       "<table border=\"1\" class=\"dataframe\">\n",
       "  <thead>\n",
       "    <tr style=\"text-align: right;\">\n",
       "      <th></th>\n",
       "      <th>0</th>\n",
       "      <th>1</th>\n",
       "      <th>2</th>\n",
       "      <th>3</th>\n",
       "      <th>4</th>\n",
       "      <th>5</th>\n",
       "      <th>NMR_Peaks</th>\n",
       "    </tr>\n",
       "  </thead>\n",
       "  <tbody>\n",
       "    <tr>\n",
       "      <th>4_COOH_1</th>\n",
       "      <td>F-1;C(//)</td>\n",
       "      <td>F-1;C(CCF//)</td>\n",
       "      <td>F-1;C(CCF/=OO,FFF,/)</td>\n",
       "      <td>F-1;C(CCF/=OO,FFF,/,,,,)</td>\n",
       "      <td>F-1;C(CCF/=OO,FFF,/,,,,)/</td>\n",
       "      <td>F-1;C(CCF/=OO,FFF,/,,,,)//</td>\n",
       "      <td>-122.45</td>\n",
       "    </tr>\n",
       "    <tr>\n",
       "      <th>5_COOH_1</th>\n",
       "      <td>F-1;C(//)</td>\n",
       "      <td>F-1;C(CCF//)</td>\n",
       "      <td>F-1;C(CCF/=OO,FFF,/)</td>\n",
       "      <td>F-1;C(CCF/=OO,FFF,/,,,,)</td>\n",
       "      <td>F-1;C(CCF/=OO,FFF,/,,,,)/</td>\n",
       "      <td>F-1;C(CCF/=OO,FFF,/,,,,)//</td>\n",
       "      <td>-122.45</td>\n",
       "    </tr>\n",
       "    <tr>\n",
       "      <th>7_COOH_1</th>\n",
       "      <td>F-1;C(//)</td>\n",
       "      <td>F-1;C(CFF//)</td>\n",
       "      <td>F-1;C(CFF/CFF,,/)</td>\n",
       "      <td>F-1;C(CFF/CFF,,/=OO,,)</td>\n",
       "      <td>F-1;C(CFF/CFF,,/=OO,,),/</td>\n",
       "      <td>F-1;C(CFF/CFF,,/=OO,,),//</td>\n",
       "      <td>-83.4</td>\n",
       "    </tr>\n",
       "    <tr>\n",
       "      <th>8_COOH_1</th>\n",
       "      <td>F-1;C(//)</td>\n",
       "      <td>F-1;C(CFF//)</td>\n",
       "      <td>F-1;C(CFF/CFF,,/)</td>\n",
       "      <td>F-1;C(CFF/CFF,,/=OO,,)</td>\n",
       "      <td>F-1;C(CFF/CFF,,/=OO,,),/</td>\n",
       "      <td>F-1;C(CFF/CFF,,/=OO,,),//</td>\n",
       "      <td>-83.4</td>\n",
       "    </tr>\n",
       "    <tr>\n",
       "      <th>9_COOH_1</th>\n",
       "      <td>F-1;C(//)</td>\n",
       "      <td>F-1;C(CFF//)</td>\n",
       "      <td>F-1;C(CFF/CFF,,/)</td>\n",
       "      <td>F-1;C(CFF/CFF,,/=OO,,)</td>\n",
       "      <td>F-1;C(CFF/CFF,,/=OO,,),/</td>\n",
       "      <td>F-1;C(CFF/CFF,,/=OO,,),//</td>\n",
       "      <td>-83.4</td>\n",
       "    </tr>\n",
       "  </tbody>\n",
       "</table>\n",
       "</div>"
      ],
      "text/plain": [
       "                  0             1                     2  \\\n",
       "4_COOH_1  F-1;C(//)  F-1;C(CCF//)  F-1;C(CCF/=OO,FFF,/)   \n",
       "5_COOH_1  F-1;C(//)  F-1;C(CCF//)  F-1;C(CCF/=OO,FFF,/)   \n",
       "7_COOH_1  F-1;C(//)  F-1;C(CFF//)     F-1;C(CFF/CFF,,/)   \n",
       "8_COOH_1  F-1;C(//)  F-1;C(CFF//)     F-1;C(CFF/CFF,,/)   \n",
       "9_COOH_1  F-1;C(//)  F-1;C(CFF//)     F-1;C(CFF/CFF,,/)   \n",
       "\n",
       "                                 3                          4  \\\n",
       "4_COOH_1  F-1;C(CCF/=OO,FFF,/,,,,)  F-1;C(CCF/=OO,FFF,/,,,,)/   \n",
       "5_COOH_1  F-1;C(CCF/=OO,FFF,/,,,,)  F-1;C(CCF/=OO,FFF,/,,,,)/   \n",
       "7_COOH_1    F-1;C(CFF/CFF,,/=OO,,)   F-1;C(CFF/CFF,,/=OO,,),/   \n",
       "8_COOH_1    F-1;C(CFF/CFF,,/=OO,,)   F-1;C(CFF/CFF,,/=OO,,),/   \n",
       "9_COOH_1    F-1;C(CFF/CFF,,/=OO,,)   F-1;C(CFF/CFF,,/=OO,,),/   \n",
       "\n",
       "                                   5 NMR_Peaks  \n",
       "4_COOH_1  F-1;C(CCF/=OO,FFF,/,,,,)//   -122.45  \n",
       "5_COOH_1  F-1;C(CCF/=OO,FFF,/,,,,)//   -122.45  \n",
       "7_COOH_1   F-1;C(CFF/CFF,,/=OO,,),//     -83.4  \n",
       "8_COOH_1   F-1;C(CFF/CFF,,/=OO,,),//     -83.4  \n",
       "9_COOH_1   F-1;C(CFF/CFF,,/=OO,,),//     -83.4  "
      ]
     },
     "execution_count": 5,
     "metadata": {},
     "output_type": "execute_result"
    }
   ],
   "source": [
    "example = all_fluorinated_compounds[\n",
    "    all_fluorinated_compounds[\"Compound name\"] == \"perfluoropropionic acid\"\n",
    "]\n",
    "example = hose_code.getHoseCodeContent(example)\n",
    "example"
   ]
  },
  {
   "cell_type": "code",
   "execution_count": 6,
   "id": "b58413a1-e954-4ce1-8b39-f27937ad4587",
   "metadata": {},
   "outputs": [
    {
     "name": "stdout",
     "output_type": "stream",
     "text": [
      "Shape of the training dataset: (2351, 7)\n"
     ]
    },
    {
     "data": {
      "text/html": [
       "<div>\n",
       "<style scoped>\n",
       "    .dataframe tbody tr th:only-of-type {\n",
       "        vertical-align: middle;\n",
       "    }\n",
       "\n",
       "    .dataframe tbody tr th {\n",
       "        vertical-align: top;\n",
       "    }\n",
       "\n",
       "    .dataframe thead th {\n",
       "        text-align: right;\n",
       "    }\n",
       "</style>\n",
       "<table border=\"1\" class=\"dataframe\">\n",
       "  <thead>\n",
       "    <tr style=\"text-align: right;\">\n",
       "      <th></th>\n",
       "      <th>0</th>\n",
       "      <th>1</th>\n",
       "      <th>2</th>\n",
       "      <th>3</th>\n",
       "      <th>4</th>\n",
       "      <th>5</th>\n",
       "      <th>NMR_Peaks</th>\n",
       "    </tr>\n",
       "  </thead>\n",
       "  <tbody>\n",
       "    <tr>\n",
       "      <th>4_ether_12</th>\n",
       "      <td>F-1;C(//)</td>\n",
       "      <td>F-1;C(CCF//)</td>\n",
       "      <td>F-1;C(CCF/CFF,=OO,/)</td>\n",
       "      <td>F-1;C(CCF/CFF,=OO,/OFF,,,,)</td>\n",
       "      <td>F-1;C(CCF/CFF,=OO,/OFF,,,,)C,,/</td>\n",
       "      <td>F-1;C(CCF/CFF,=OO,/OFF,,,,)C,,/FFF/</td>\n",
       "      <td>-119.9</td>\n",
       "    </tr>\n",
       "    <tr>\n",
       "      <th>5_ether_12</th>\n",
       "      <td>F-1;C(//)</td>\n",
       "      <td>F-1;C(CCF//)</td>\n",
       "      <td>F-1;C(CCF/CFF,=OO,/)</td>\n",
       "      <td>F-1;C(CCF/CFF,=OO,/OFF,,,,)</td>\n",
       "      <td>F-1;C(CCF/CFF,=OO,/OFF,,,,)C,,/</td>\n",
       "      <td>F-1;C(CCF/CFF,=OO,/OFF,,,,)C,,/FFF/</td>\n",
       "      <td>-119.9</td>\n",
       "    </tr>\n",
       "    <tr>\n",
       "      <th>7_ether_12</th>\n",
       "      <td>F-1;C(//)</td>\n",
       "      <td>F-1;C(CCF//)</td>\n",
       "      <td>F-1;C(CCF/CFF,OFF,/)</td>\n",
       "      <td>F-1;C(CCF/CFF,OFF,/=OO,,,C,,)</td>\n",
       "      <td>F-1;C(CCF/CFF,OFF,/=OO,,,C,,),,FFF/</td>\n",
       "      <td>F-1;C(CCF/CFF,OFF,/=OO,,,C,,),,FFF/,,/</td>\n",
       "      <td>-129.4</td>\n",
       "    </tr>\n",
       "  </tbody>\n",
       "</table>\n",
       "</div>"
      ],
      "text/plain": [
       "                    0             1                     2  \\\n",
       "4_ether_12  F-1;C(//)  F-1;C(CCF//)  F-1;C(CCF/CFF,=OO,/)   \n",
       "5_ether_12  F-1;C(//)  F-1;C(CCF//)  F-1;C(CCF/CFF,=OO,/)   \n",
       "7_ether_12  F-1;C(//)  F-1;C(CCF//)  F-1;C(CCF/CFF,OFF,/)   \n",
       "\n",
       "                                        3  \\\n",
       "4_ether_12    F-1;C(CCF/CFF,=OO,/OFF,,,,)   \n",
       "5_ether_12    F-1;C(CCF/CFF,=OO,/OFF,,,,)   \n",
       "7_ether_12  F-1;C(CCF/CFF,OFF,/=OO,,,C,,)   \n",
       "\n",
       "                                              4  \\\n",
       "4_ether_12      F-1;C(CCF/CFF,=OO,/OFF,,,,)C,,/   \n",
       "5_ether_12      F-1;C(CCF/CFF,=OO,/OFF,,,,)C,,/   \n",
       "7_ether_12  F-1;C(CCF/CFF,OFF,/=OO,,,C,,),,FFF/   \n",
       "\n",
       "                                                 5 NMR_Peaks  \n",
       "4_ether_12     F-1;C(CCF/CFF,=OO,/OFF,,,,)C,,/FFF/    -119.9  \n",
       "5_ether_12     F-1;C(CCF/CFF,=OO,/OFF,,,,)C,,/FFF/    -119.9  \n",
       "7_ether_12  F-1;C(CCF/CFF,OFF,/=OO,,,C,,),,FFF/,,/    -129.4  "
      ]
     },
     "execution_count": 6,
     "metadata": {},
     "output_type": "execute_result"
    }
   ],
   "source": [
    "HOSE_Code_database = hose_code.getHoseCodeContent(train_fluorinated_compounds)\n",
    "print(f\"Shape of the training dataset: {HOSE_Code_database.shape}\")\n",
    "HOSE_Code_database.head(3)"
   ]
  },
  {
   "cell_type": "code",
   "execution_count": 7,
   "id": "70caf3ca-e58c-4cbe-a118-dc0329ce6d41",
   "metadata": {},
   "outputs": [],
   "source": [
    "# Save the database to a csv file\n",
    "file_path = os.path.join(\n",
    "    \"..\", \"artifacts\", \"temp\", \"HOSE_Code_database_from_train_dataset.csv\"\n",
    ")\n",
    "HOSE_Code_database.to_csv(file_path, encoding=\"utf-8\")\n",
    "\n",
    "# Transform column names to int where possible\n",
    "HOSE_Code_database.columns = [\n",
    "    common.convert_column_name(name) for name in HOSE_Code_database.columns\n",
    "]"
   ]
  },
  {
   "cell_type": "markdown",
   "id": "e57e8a8f-e58a-4ec7-bfe9-79063e6f51fa",
   "metadata": {},
   "source": [
    "## 2.2 Prediction on the Validation dataset<a class=\"anchor\" id=\"2.2\"></a>\n",
    "## 2.2.1. Generate HOSE codes for the Validation dataset<a class=\"anchor\" id=\"2.2.1\"></a>"
   ]
  },
  {
   "cell_type": "code",
   "execution_count": 8,
   "id": "f015ec29-ff63-4c7a-b6e5-ec19098dc90c",
   "metadata": {},
   "outputs": [
    {
     "name": "stdout",
     "output_type": "stream",
     "text": [
      "Shape of the validation dataset: (658, 7)\n"
     ]
    },
    {
     "data": {
      "text/html": [
       "<div>\n",
       "<style scoped>\n",
       "    .dataframe tbody tr th:only-of-type {\n",
       "        vertical-align: middle;\n",
       "    }\n",
       "\n",
       "    .dataframe tbody tr th {\n",
       "        vertical-align: top;\n",
       "    }\n",
       "\n",
       "    .dataframe thead th {\n",
       "        text-align: right;\n",
       "    }\n",
       "</style>\n",
       "<table border=\"1\" class=\"dataframe\">\n",
       "  <thead>\n",
       "    <tr style=\"text-align: right;\">\n",
       "      <th></th>\n",
       "      <th>0</th>\n",
       "      <th>1</th>\n",
       "      <th>2</th>\n",
       "      <th>3</th>\n",
       "      <th>4</th>\n",
       "      <th>5</th>\n",
       "      <th>NMR_Peaks</th>\n",
       "    </tr>\n",
       "  </thead>\n",
       "  <tbody>\n",
       "    <tr>\n",
       "      <th>4_From_Review_316</th>\n",
       "      <td>F-1;C(//)</td>\n",
       "      <td>F-1;C(CFF//)</td>\n",
       "      <td>F-1;C(CFF/C,,/)</td>\n",
       "      <td>F-1;C(CFF/C,,/N)</td>\n",
       "      <td>F-1;C(CFF/C,,/N)/</td>\n",
       "      <td>F-1;C(CFF/C,,/N)//</td>\n",
       "      <td>-66.0</td>\n",
       "    </tr>\n",
       "    <tr>\n",
       "      <th>5_From_Review_316</th>\n",
       "      <td>F-1;C(//)</td>\n",
       "      <td>F-1;C(CFF//)</td>\n",
       "      <td>F-1;C(CFF/C,,/)</td>\n",
       "      <td>F-1;C(CFF/C,,/N)</td>\n",
       "      <td>F-1;C(CFF/C,,/N)/</td>\n",
       "      <td>F-1;C(CFF/C,,/N)//</td>\n",
       "      <td>-66.0</td>\n",
       "    </tr>\n",
       "    <tr>\n",
       "      <th>6_From_Review_316</th>\n",
       "      <td>F-1;C(//)</td>\n",
       "      <td>F-1;C(CFF//)</td>\n",
       "      <td>F-1;C(CFF/C,,/)</td>\n",
       "      <td>F-1;C(CFF/C,,/N)</td>\n",
       "      <td>F-1;C(CFF/C,,/N)/</td>\n",
       "      <td>F-1;C(CFF/C,,/N)//</td>\n",
       "      <td>-66.0</td>\n",
       "    </tr>\n",
       "  </tbody>\n",
       "</table>\n",
       "</div>"
      ],
      "text/plain": [
       "                           0             1                2                 3  \\\n",
       "4_From_Review_316  F-1;C(//)  F-1;C(CFF//)  F-1;C(CFF/C,,/)  F-1;C(CFF/C,,/N)   \n",
       "5_From_Review_316  F-1;C(//)  F-1;C(CFF//)  F-1;C(CFF/C,,/)  F-1;C(CFF/C,,/N)   \n",
       "6_From_Review_316  F-1;C(//)  F-1;C(CFF//)  F-1;C(CFF/C,,/)  F-1;C(CFF/C,,/N)   \n",
       "\n",
       "                                   4                   5 NMR_Peaks  \n",
       "4_From_Review_316  F-1;C(CFF/C,,/N)/  F-1;C(CFF/C,,/N)//     -66.0  \n",
       "5_From_Review_316  F-1;C(CFF/C,,/N)/  F-1;C(CFF/C,,/N)//     -66.0  \n",
       "6_From_Review_316  F-1;C(CFF/C,,/N)/  F-1;C(CFF/C,,/N)//     -66.0  "
      ]
     },
     "execution_count": 8,
     "metadata": {},
     "output_type": "execute_result"
    }
   ],
   "source": [
    "HOSE_codes_vali = hose_code.getHoseCodeContent(vali_fluorinated_compounds)\n",
    "print(f\"Shape of the validation dataset: {HOSE_codes_vali.shape}\")\n",
    "HOSE_codes_vali.head(3)"
   ]
  },
  {
   "cell_type": "markdown",
   "id": "4859a4ee",
   "metadata": {},
   "source": [
    "## 2.2.2 Search the database and get prediction results<a class=\"anchor\" id=\"2.2.2\"></a>"
   ]
  },
  {
   "cell_type": "code",
   "execution_count": 9,
   "id": "a0bcca64-e584-4ca5-949b-3e230ebf9811",
   "metadata": {},
   "outputs": [
    {
     "data": {
      "text/html": [
       "<div>\n",
       "<style scoped>\n",
       "    .dataframe tbody tr th:only-of-type {\n",
       "        vertical-align: middle;\n",
       "    }\n",
       "\n",
       "    .dataframe tbody tr th {\n",
       "        vertical-align: top;\n",
       "    }\n",
       "\n",
       "    .dataframe thead th {\n",
       "        text-align: right;\n",
       "    }\n",
       "</style>\n",
       "<table border=\"1\" class=\"dataframe\">\n",
       "  <thead>\n",
       "    <tr style=\"text-align: right;\">\n",
       "      <th></th>\n",
       "      <th>actual</th>\n",
       "      <th>prediction</th>\n",
       "      <th>diff</th>\n",
       "      <th>similarity_levels</th>\n",
       "    </tr>\n",
       "  </thead>\n",
       "  <tbody>\n",
       "    <tr>\n",
       "      <th>4_From_Review_316</th>\n",
       "      <td>-66.00</td>\n",
       "      <td>-65.585714</td>\n",
       "      <td>0.414286</td>\n",
       "      <td>3</td>\n",
       "    </tr>\n",
       "    <tr>\n",
       "      <th>5_From_Review_316</th>\n",
       "      <td>-66.00</td>\n",
       "      <td>-65.585714</td>\n",
       "      <td>0.414286</td>\n",
       "      <td>3</td>\n",
       "    </tr>\n",
       "    <tr>\n",
       "      <th>6_From_Review_316</th>\n",
       "      <td>-66.00</td>\n",
       "      <td>-65.585714</td>\n",
       "      <td>0.414286</td>\n",
       "      <td>3</td>\n",
       "    </tr>\n",
       "    <tr>\n",
       "      <th>7_SO3H_25</th>\n",
       "      <td>-115.13</td>\n",
       "      <td>-114.380000</td>\n",
       "      <td>0.750000</td>\n",
       "      <td>6</td>\n",
       "    </tr>\n",
       "  </tbody>\n",
       "</table>\n",
       "</div>"
      ],
      "text/plain": [
       "                   actual  prediction      diff  similarity_levels\n",
       "4_From_Review_316  -66.00  -65.585714  0.414286                  3\n",
       "5_From_Review_316  -66.00  -65.585714  0.414286                  3\n",
       "6_From_Review_316  -66.00  -65.585714  0.414286                  3\n",
       "7_SO3H_25         -115.13 -114.380000  0.750000                  6"
      ]
     },
     "execution_count": 9,
     "metadata": {},
     "output_type": "execute_result"
    }
   ],
   "source": [
    "# Get HOSE Code and corresponding 19F NMR values using train dataset\n",
    "sphere_dics = hose_code.getTrainDictionary_HOSE(HOSE_Code_database)\n",
    "\n",
    "HOSE_Code_database[\"NMR_Peaks\"] = HOSE_Code_database[\"NMR_Peaks\"].astype(float)\n",
    "\n",
    "# Get prediction results and corresponding similarity levels for the validation dataset\n",
    "prediction, similarity_levels = hose_code.HOSE_Model(\n",
    "    sphere_dics, HOSE_codes_vali, HOSE_Code_database[\"NMR_Peaks\"].mean()\n",
    ")\n",
    "\n",
    "# Validation dataset\n",
    "results = hose_code.getResults_HOSE(prediction, similarity_levels, HOSE_codes_vali)\n",
    "results.head(4)"
   ]
  },
  {
   "cell_type": "code",
   "execution_count": 10,
   "id": "b0582359-fe2f-44de-b860-fb44637ee8a6",
   "metadata": {},
   "outputs": [
    {
     "data": {
      "image/png": "[encoded data removed]",
      "text/plain": [
       "<Figure size 393.701x354.331 with 1 Axes>"
      ]
     },
     "metadata": {},
     "output_type": "display_data"
    }
   ],
   "source": [
    "# Plot the distribution of data points across different similarity levels\n",
    "# Sort the value counts by the index (the similarity levels)\n",
    "sorted_counts = results[\"similarity_levels\"].value_counts(normalize=True).sort_index()\n",
    "\n",
    "cm = 1 / 2.54  # centimeters in inches\n",
    "fig, ax = plt.subplots(figsize=(10 * cm, 9 * cm))  # 8 cm x 8 cm\n",
    "\n",
    "# Plotting the sorted value counts\n",
    "ax = sorted_counts.plot(kind=\"bar\", color=\"#069AF3\")\n",
    "\n",
    "# Adding the percentage labels above each bar\n",
    "for p in ax.patches:\n",
    "    ax.annotate(\n",
    "        f\"{p.get_height():.1%}\",  # Format the height as a percentage\n",
    "        (\n",
    "            p.get_x() + p.get_width() / 2.0,\n",
    "            p.get_height(),\n",
    "        ),  # Position for the annotation\n",
    "        ha=\"center\",  # Horizontal alignment: center\n",
    "        va=\"center\",  # Vertical alignment: center\n",
    "        xytext=(0, 9),  # Offset the text by 9 points above the bar\n",
    "        textcoords=\"offset points\",  # Use offset points to position the text\n",
    "    )\n",
    "\n",
    "# Set border (edge) line width\n",
    "ax.spines[\"top\"].set_linewidth(1)  # Top border\n",
    "ax.spines[\"right\"].set_linewidth(1)  # Right border\n",
    "ax.spines[\"bottom\"].set_linewidth(1)  # Bottom border\n",
    "ax.spines[\"left\"].set_linewidth(1)  # Left border\n",
    "\n",
    "# Set axis titles and tick label font sizes\n",
    "ax.set_xlabel(\"Similarity levels\", fontsize=14)  # Replace with your label\n",
    "ax.set_ylabel(\"Ratio\", fontsize=14)  # Replace with your label\n",
    "ax.tick_params(axis=\"x\", labelsize=12)  # X-axis numbers font size\n",
    "ax.tick_params(axis=\"y\", labelsize=12)  # Y-axis numbers font size\n",
    "\n",
    "ax.set_ylim([0, 0.5])\n",
    "# Set the x-axis labels in the correct order\n",
    "ax.set_xticklabels(sorted_counts.index)\n",
    "ax.tick_params(axis=\"x\", rotation=0)\n",
    "\n",
    "plt.show()"
   ]
  },
  {
   "cell_type": "markdown",
   "id": "a62aaa26",
   "metadata": {},
   "source": [
    "The distribution of data points in the validation dataset across different similarity levels"
   ]
  },
  {
   "cell_type": "markdown",
   "id": "d9b56324",
   "metadata": {},
   "source": [
    "## 2.2.3 Visualize Prediction Performance in the Validation Dataset<a class=\"anchor\" id=\"2.2.3\"></a>"
   ]
  },
  {
   "cell_type": "code",
   "execution_count": 11,
   "id": "647ac64b-d17c-4640-95bd-661125a7db88",
   "metadata": {},
   "outputs": [
    {
     "data": {
      "image/png": "[encoded data removed]",
      "text/plain": [
       "<Figure size 393.701x354.331 with 1 Axes>"
      ]
     },
     "metadata": {},
     "output_type": "display_data"
    }
   ],
   "source": [
    "# Create the figure and axes with specified size\n",
    "cm = 1 / 2.54  # centimeters in inches\n",
    "fig, ax = plt.subplots(figsize=(10 * cm, 9 * cm))  # 8 cm x 8 cm\n",
    "ax = (\n",
    "    results.groupby(\"similarity_levels\")[\"diff\"]\n",
    "    .mean()\n",
    "    .plot(kind=\"bar\", color=\"#069AF3\")\n",
    ")\n",
    "\n",
    "# Add the height (mean value) above each bar\n",
    "for p in ax.patches:\n",
    "    ax.annotate(\n",
    "        f\"{p.get_height():.1f}\",  # Format the height to two decimal places\n",
    "        (\n",
    "            p.get_x() + p.get_width() / 2.0,\n",
    "            p.get_height(),\n",
    "        ),  # Position for the annotation\n",
    "        ha=\"center\",  # Horizontal alignment: center\n",
    "        va=\"center\",  # Vertical alignment: center\n",
    "        xytext=(0, 9),  # Offset the text by 9 points above the bar\n",
    "        textcoords=\"offset points\",  # Use offset points to position the text\n",
    "    )\n",
    "\n",
    "ax.tick_params(axis=\"x\", rotation=0)\n",
    "\n",
    "# Set border (edge) line width\n",
    "ax.spines[\"top\"].set_linewidth(1)  # Top border\n",
    "ax.spines[\"right\"].set_linewidth(1)  # Right border\n",
    "ax.spines[\"bottom\"].set_linewidth(1)  # Bottom border\n",
    "ax.spines[\"left\"].set_linewidth(1)  # Left border\n",
    "\n",
    "# Set axis titles and tick label font sizes\n",
    "ax.set_xlabel(\"Similarity levels\", fontsize=14)  # Replace with your label\n",
    "ax.set_ylabel(\"Mean absolute error (ppm)\", fontsize=14)  # Replace with your label\n",
    "ax.tick_params(axis=\"x\", labelsize=12)  # X-axis numbers font size\n",
    "ax.tick_params(axis=\"y\", labelsize=12)  # Y-axis numbers font size\n",
    "\n",
    "ax.set_ylim([0, 65])\n",
    "\n",
    "plt.show()"
   ]
  },
  {
   "cell_type": "markdown",
   "id": "dc7f8024",
   "metadata": {},
   "source": [
    "Prediction performance of the HOSE-Based Nearest Neighbors Model on the validation dataset"
   ]
  },
  {
   "cell_type": "code",
   "execution_count": 12,
   "id": "9f98ddb1-d1cb-4c20-a86f-87b333da2285",
   "metadata": {},
   "outputs": [],
   "source": [
    "file_path = os.path.join(\n",
    "    \"..\", \"artifacts\", \"results\", \"results_validation_dataset_HOSE_based model.csv\"\n",
    ")\n",
    "results.to_csv(file_path, encoding=\"utf-8\")"
   ]
  },
  {
   "cell_type": "code",
   "execution_count": 13,
   "id": "edd1a52a-a3ba-4463-8cd9-e5570b02e35f",
   "metadata": {},
   "outputs": [
    {
     "data": {
      "image/png": "[encoded data removed]",
      "text/plain": [
       "<Figure size 393.701x354.331 with 1 Axes>"
      ]
     },
     "metadata": {},
     "output_type": "display_data"
    }
   ],
   "source": [
    "common.plot_prediction_performance(results, figure_title=None)"
   ]
  },
  {
   "cell_type": "markdown",
   "id": "b13c6fa4",
   "metadata": {},
   "source": [
    "Cumulative Distribution of Prediction Error on the Validation Dataset\n"
   ]
  },
  {
   "cell_type": "code",
   "execution_count": 14,
   "id": "01cd3c5a-ae87-43ca-b39a-9025c3707b59",
   "metadata": {},
   "outputs": [
    {
     "name": "stdout",
     "output_type": "stream",
     "text": [
      "R2 = 0.90\n",
      "RMSE = 9.09\n",
      "MAE = 4.127073235810123\n"
     ]
    },
    {
     "data": {
      "image/png": "[encoded data removed]",
      "text/plain": [
       "<Figure size 393.701x354.331 with 1 Axes>"
      ]
     },
     "metadata": {},
     "output_type": "display_data"
    }
   ],
   "source": [
    "common.show_results_scatter(results, figure_title=None)"
   ]
  },
  {
   "cell_type": "markdown",
   "id": "5c6e35fd",
   "metadata": {},
   "source": [
    "Prediction performance of the HOSE-based model on the validation dataset"
   ]
  }
 ],
 "metadata": {
  "kernelspec": {
   "display_name": ".venv",
   "language": "python",
   "name": "python3"
  },
  "language_info": {
   "codemirror_mode": {
    "name": "ipython",
    "version": 3
   },
   "file_extension": ".py",
   "mimetype": "text/x-python",
   "name": "python",
   "nbconvert_exporter": "python",
   "pygments_lexer": "ipython3",
   "version": "3.12.4"
  }
 },
 "nbformat": 4,
 "nbformat_minor": 5
}
